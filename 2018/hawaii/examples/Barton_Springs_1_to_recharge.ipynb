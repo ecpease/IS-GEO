{
 "cells": [
  {
   "cell_type": "markdown",
   "metadata": {},
   "source": [
    "# Step 1: Create a Recharge File for MODFLOW"
   ]
  },
  {
   "cell_type": "markdown",
   "metadata": {},
   "source": [
    "## Assign a precip value to each model grid cell centroid"
   ]
  },
  {
   "cell_type": "code",
   "execution_count": 2,
   "metadata": {},
   "outputs": [],
   "source": [
    "import geopandas as gpd\n",
    "import os\n",
    "import numpy as np\n",
    "from osgeo import gdal\n",
    "import pandas as pd"
   ]
  },
  {
   "cell_type": "markdown",
   "metadata": {},
   "source": [
    "## Read in the model CSV from Texas Water Development Board \n",
    "\n",
    "URL: https://www.twdb.texas.gov/groundwater/models/gam/glfc_n/glfc_n.asp\n",
    "\n",
    "\n",
    "## CSV is also available in this repository in GIS folder"
   ]
  },
  {
   "cell_type": "code",
   "execution_count": 3,
   "metadata": {},
   "outputs": [],
   "source": [
    "df = pd.read_csv(os.path.join('..', 'GIS','ebfz_b_grid_poly082615.csv'))"
   ]
  },
  {
   "cell_type": "markdown",
   "metadata": {},
   "source": [
    "## Determine number of rows and columns in the model\n",
    "### nrow and ncol are the maximum number of row and col in model"
   ]
  },
  {
   "cell_type": "code",
   "execution_count": 4,
   "metadata": {},
   "outputs": [
    {
     "data": {
      "text/plain": [
       "(120, 120)"
      ]
     },
     "execution_count": 4,
     "metadata": {},
     "output_type": "execute_result"
    }
   ],
   "source": [
    "nrow, ncol = df['ROW'].max(), df['COL'].max() \n",
    "nrow,ncol"
   ]
  },
  {
   "cell_type": "code",
   "execution_count": 5,
   "metadata": {},
   "outputs": [],
   "source": [
    "delr, delc = 1000, 500 # BUT should prob just read from .dis file"
   ]
  },
  {
   "cell_type": "code",
   "execution_count": 6,
   "metadata": {},
   "outputs": [],
   "source": [
    "nlay = 1  "
   ]
  },
  {
   "cell_type": "code",
   "execution_count": 13,
   "metadata": {},
   "outputs": [],
   "source": [
    "def get_raster_value(xcoords,ycoords,nrow,ncol,mfrows,mfcols,raster_path,name='name'):\n",
    "    \"\"\"\n",
    "    :param xcoords:\n",
    "    :param ycoords:\n",
    "    :param nrow:\n",
    "    :param ncol:\n",
    "    :param mfrows:\n",
    "    :param mfcols:\n",
    "    :param raster_path:\n",
    "    :param name:\n",
    "    :return:\n",
    "\n",
    "    Written by Ross Kushnereit\n",
    "    INTERA, Inc.\n",
    "\n",
    "    This function converts a raster to a NumPy array.  Then resizes it to match the model array.\n",
    "    \"\"\"\n",
    "    dataset = gdal.Open(raster_path)\n",
    "    band = dataset.GetRasterBand(1)\n",
    "    cols, rows = dataset.RasterXSize, dataset.RasterYSize\n",
    "    transform = dataset.GetGeoTransform()\n",
    "    xOrigin = transform[0]\n",
    "    yOrigin = transform[3]\n",
    "    pixelWidth = transform[1]\n",
    "    pixelHeight = -transform[5]\n",
    "    data = np.array(band.ReadAsArray(0, 0, cols, rows))\n",
    "    print(data.shape)\n",
    "    array = np.ones((nrow,ncol)) * -12345\n",
    "    for i in range(len(xcoords)):\n",
    "        if (xcoords[i]>xOrigin) and (yOrigin > ycoords[i]):# and (xcoords[i]<(xOrigin+ncol*pixelWidth)) and (yOrigin+nrow*pixelHeight < ycoords[i]):\n",
    "            try:\n",
    "                col = abs(int((xcoords[i] - xOrigin) / pixelWidth))\n",
    "                row = abs(int((yOrigin - ycoords[i]) / pixelHeight))\n",
    "                r, c = int(mfrows[i]-1), int(mfcols[i]-1)\n",
    "                # print(r,c, 'r,c')\n",
    "                v = data[row, col]\n",
    "                array[r, c] = v\n",
    "            except:\n",
    "                pass\n",
    "\n",
    "    array[array<=-12345] = np.nan\n",
    "    return array"
   ]
  },
  {
   "cell_type": "markdown",
   "metadata": {},
   "source": [
    "##  The .TIF file comes from PRISM precipitation data.  The .TIF has been clipped to the model area to reduce the amount of data and to make the script run faster"
   ]
  },
  {
   "cell_type": "code",
   "execution_count": 14,
   "metadata": {},
   "outputs": [
    {
     "name": "stdout",
     "output_type": "stream",
     "text": [
      "../GIS/annual_30_prism.tif\n"
     ]
    }
   ],
   "source": [
    "raster_path = os.path.join('..', 'GIS','annual_30_prism.tif')\n",
    "print(raster_path)"
   ]
  },
  {
   "cell_type": "code",
   "execution_count": 17,
   "metadata": {},
   "outputs": [
    {
     "name": "stdout",
     "output_type": "stream",
     "text": [
      "(678, 1711)\n"
     ]
    }
   ],
   "source": [
    "array = get_raster_value(df['CentroidX'],df['CentroidY'],nrow,ncol,df['ROW'],df['COL'],raster_path=raster_path,name='prism')"
   ]
  },
  {
   "cell_type": "markdown",
   "metadata": {},
   "source": [
    "## Finally, save the array we just created to a .txt file"
   ]
  },
  {
   "cell_type": "code",
   "execution_count": 18,
   "metadata": {},
   "outputs": [],
   "source": [
    "np.savetxt(os.path.join('..', 'output', 'prism_mean_rch.txt'), array)"
   ]
  }
 ],
 "metadata": {
  "kernelspec": {
   "display_name": "Python 3",
   "language": "python",
   "name": "python3"
  },
  "language_info": {
   "codemirror_mode": {
    "name": "ipython",
    "version": 3
   },
   "file_extension": ".py",
   "mimetype": "text/x-python",
   "name": "python",
   "nbconvert_exporter": "python",
   "pygments_lexer": "ipython3",
   "version": "3.6.6"
  }
 },
 "nbformat": 4,
 "nbformat_minor": 2
}
